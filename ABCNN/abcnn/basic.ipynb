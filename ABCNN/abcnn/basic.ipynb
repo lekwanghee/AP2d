{
 "cells": [
  {
   "cell_type": "code",
   "execution_count": 2,
   "metadata": {},
   "outputs": [],
   "source": [
    "import math\n",
    "import torch\n",
    "import torch.nn as nn\n",
    "import torch.nn.functional as F\n",
    "import torch.nn.init as init\n",
    "from torch.nn.parameter import Parameter\n",
    "\n",
    "class Basic_AP(nn.Module):\n",
    "    #attentive pooling\n",
    "    def __init__(self, vocab_size, embedding_size, input_size, padding_idx=0):\n",
    "        super(Basic_AP, self).__init__()\n",
    "\n",
    "        self.embeds = nn.Embedding(vocab_size, embedding_size, padding_idx=padding_idx)\n",
    "        self.weight = Parameter(torch.Tensor(embedding_size, embedding_size))\n",
    "        init.kaiming_uniform_(self.weight, a=math.sqrt(5))\n",
    "        self.mp = nn.MaxPool1d(input_size, stride=1)\n",
    "        #self.cos = nn.CosineSimilarity(dim=1, eps=1e-6)\n",
    "        self.out_f = nn.Linear(embedding_size*2, 1, bias=False)\n",
    "        \n",
    "    def forward(self, x1, x2):\n",
    "        Q = self.embeds(x1)\n",
    "        A = self.embeds(x2)\n",
    "        G = torch.tanh(Q @ self.weight @ A.transpose(1, 2))\n",
    "\n",
    "        attention_Q = torch.softmax(self.mp(G), dim=1)\n",
    "        attention_A = torch.softmax(self.mp(G.transpose(1, 2)), dim=1)\n",
    "        \n",
    "        r_Q = Q.transpose(1, 2) @ attention_Q\n",
    "        r_A = A.transpose(1, 2) @ attention_A\n",
    "        \n",
    "        output = torch.cat((r_Q, r_A), 1).squeeze(-1)\n",
    "        output = torch.sigmoid(self.out_f(output))\n",
    "\n",
    "        return output"
   ]
  },
  {
   "cell_type": "code",
   "execution_count": null,
   "metadata": {},
   "outputs": [],
   "source": []
  }
 ],
 "metadata": {
  "kernelspec": {
   "display_name": "Python 3",
   "language": "python",
   "name": "python3"
  },
  "language_info": {
   "codemirror_mode": {
    "name": "ipython",
    "version": 3
   },
   "file_extension": ".py",
   "mimetype": "text/x-python",
   "name": "python",
   "nbconvert_exporter": "python",
   "pygments_lexer": "ipython3",
   "version": "3.7.2"
  }
 },
 "nbformat": 4,
 "nbformat_minor": 2
}
